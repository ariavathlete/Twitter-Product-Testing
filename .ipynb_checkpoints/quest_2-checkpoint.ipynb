{
 "cells": [
  {
   "cell_type": "markdown",
   "metadata": {},
   "source": [
    "### Twitter Advertising Campaign\n",
    "#### Ari Iwunze\n",
    "##### Abstract:\n",
    "\n",
    "Twitter has been noticing an increase in overspend on the platform. In an attempt to reduce the amount of overspend, they decided to create a new product where advertisers pay each time their ad appears in a user’s viewport rather than each time it is clicked on -- presumably these engagements would be received at a lower latency. In order to test the\n",
    "new product, we ran an A/B test. We randomly split the advertisers on the platform. Half of the advertisers remained on the old product and half received the new product. A week later we have some data and want to determine whether or not the experiment was a success.\n",
    "\n",
    "2. Was the new product effective at reducing overspend, and was it more or less effective depending on the company size?  Put together an analysis describing how the treatment affected overspend.\n"
   ]
  },
  {
   "cell_type": "markdown",
   "metadata": {},
   "source": [
    "##### Business Goal: \n",
    "1. Reduce overspending.\n",
    "2. Increase Consumers budget.\n",
    "3. Increase Customer satisfaction.\n",
    "\n",
    "##### Metrics:\n",
    "1. Overspending: We want to see that overspending reduced in the treatment group.\n",
    "2. Budget: Want to see that the average campaign buget increased in the treatment group.\n",
    "    "
   ]
  },
  {
   "cell_type": "markdown",
   "metadata": {},
   "source": [
    "#### Import and explore dataset"
   ]
  },
  {
   "cell_type": "code",
   "execution_count": 49,
   "metadata": {
    "scrolled": true
   },
   "outputs": [],
   "source": [
    "import pandas as pd\n",
    "import numpy as np\n",
    "import seaborn as sns\n",
    "import scipy.stats as ss \n",
    "import scipy.stats as stats\n",
    "import warnings\n",
    "import matplotlib.pyplot as plt\n",
    "import seaborn as sns\n",
    "from statsmodels.formula.api import ols\n",
    "import statsmodels.stats.api as sms\n",
    "import statsmodels.api as sm\n",
    "from math import ceil\n",
    "import warnings\n",
    "warnings.filterwarnings('ignore')\n"
   ]
  },
  {
   "cell_type": "code",
   "execution_count": 50,
   "metadata": {},
   "outputs": [],
   "source": [
    "# loading the csv file into a pandas datframe\n",
    "df = pd.read_excel(r'analytical_take_home_data_v2.xlsx')"
   ]
  },
  {
   "cell_type": "code",
   "execution_count": 51,
   "metadata": {},
   "outputs": [
    {
     "data": {
      "text/plain": [
       "treatment          0\n",
       "company_size       0\n",
       "campaign_spend     0\n",
       "campaign_budget    0\n",
       "dtype: int64"
      ]
     },
     "execution_count": 51,
     "metadata": {},
     "output_type": "execute_result"
    }
   ],
   "source": [
    "# counting the number of missing valus\n",
    "df.isna().sum()"
   ]
  },
  {
   "cell_type": "markdown",
   "metadata": {},
   "source": [
    " "
   ]
  },
  {
   "cell_type": "markdown",
   "metadata": {},
   "source": [
    "# Feature Engingeering"
   ]
  },
  {
   "cell_type": "code",
   "execution_count": 52,
   "metadata": {},
   "outputs": [],
   "source": [
    "# calculating over spending \n",
    "df['overspent_percentage'] = (\n",
    "    np.abs(df['campaign_spend'] - df['campaign_budget'])/ df['campaign_budget']) * 100"
   ]
  },
  {
   "cell_type": "code",
   "execution_count": 53,
   "metadata": {},
   "outputs": [],
   "source": [
    "# calculating zscore to view outliers\n",
    "zscore = lambda x: (x - x.mean()) / x.std()\n",
    "df.insert(1, 'ZofO', df.groupby(['company_size'])['campaign_budget'].transform(zscore))\n",
    "\n",
    "df_without_outliers = df[(abs(df.ZofO) <= 3)]\n",
    "df_outliers = df[abs(df.ZofO) >3]"
   ]
  },
  {
   "cell_type": "code",
   "execution_count": 54,
   "metadata": {},
   "outputs": [],
   "source": [
    "# Plot miles per gallon against horsepower with other semantics\n",
    "\n",
    "df_no_outliers = df_without_outliers.copy()\n",
    "df_outliers.rename(columns={'campaign_budget': 'Campaign Budget', 'campaign_spend': 'Campaign Spend', 'treatment': 'Treatment'\n",
    "                              , 'overspent_percentage': 'Overspent Percentage', 'company_size': 'Company Size'}, inplace=True)\n",
    "df_no_outliers.rename(columns={'campaign_budget': 'Campaign Budget', 'campaign_spend': 'Campaign Spend', 'treatment': 'Treatment'\n",
    "                              , 'overspent_percentage': 'Overspent Percentage', 'company_size': 'Company Size'}, inplace=True)\n",
    "\n"
   ]
  },
  {
   "cell_type": "markdown",
   "metadata": {},
   "source": [
    " "
   ]
  },
  {
   "cell_type": "markdown",
   "metadata": {},
   "source": [
    "# 2. Effects on Overspending"
   ]
  },
  {
   "cell_type": "code",
   "execution_count": 55,
   "metadata": {
    "scrolled": true
   },
   "outputs": [
    {
     "data": {
      "text/html": [
       "<div>\n",
       "<style scoped>\n",
       "    .dataframe tbody tr th:only-of-type {\n",
       "        vertical-align: middle;\n",
       "    }\n",
       "\n",
       "    .dataframe tbody tr th {\n",
       "        vertical-align: top;\n",
       "    }\n",
       "\n",
       "    .dataframe thead th {\n",
       "        text-align: right;\n",
       "    }\n",
       "</style>\n",
       "<table border=\"1\" class=\"dataframe\">\n",
       "  <thead>\n",
       "    <tr style=\"text-align: right;\">\n",
       "      <th>company_size</th>\n",
       "      <th>large</th>\n",
       "      <th>medium</th>\n",
       "      <th>small</th>\n",
       "    </tr>\n",
       "    <tr>\n",
       "      <th>treatment</th>\n",
       "      <th></th>\n",
       "      <th></th>\n",
       "      <th></th>\n",
       "    </tr>\n",
       "  </thead>\n",
       "  <tbody>\n",
       "    <tr>\n",
       "      <th>False</th>\n",
       "      <td>26.261351</td>\n",
       "      <td>21.247739</td>\n",
       "      <td>47.026690</td>\n",
       "    </tr>\n",
       "    <tr>\n",
       "      <th>True</th>\n",
       "      <td>22.503461</td>\n",
       "      <td>24.731927</td>\n",
       "      <td>41.936189</td>\n",
       "    </tr>\n",
       "  </tbody>\n",
       "</table>\n",
       "</div>"
      ],
      "text/plain": [
       "company_size      large     medium      small\n",
       "treatment                                    \n",
       "False         26.261351  21.247739  47.026690\n",
       "True          22.503461  24.731927  41.936189"
      ]
     },
     "execution_count": 55,
     "metadata": {},
     "output_type": "execute_result"
    }
   ],
   "source": [
    "# overspending mean by company size\n",
    "pd.crosstab(df['treatment'],df['company_size'], values=df['overspent_percentage'] , aggfunc='mean')"
   ]
  },
  {
   "cell_type": "markdown",
   "metadata": {},
   "source": [
    "## Verifying Assumptions Before Two-way Anova Test:\n",
    "## Gaussian Normal Distribution Test"
   ]
  },
  {
   "cell_type": "code",
   "execution_count": 56,
   "metadata": {
    "scrolled": false
   },
   "outputs": [
    {
     "name": "stdout",
     "output_type": "stream",
     "text": [
      "stat=0.484 p=0.0000000000052\n",
      "\n",
      "Probably not a Gaussian Normal Distribution\n"
     ]
    },
    {
     "data": {
      "image/png": "[encoded data removed]",
      "text/plain": [
       "<Figure size 432x288 with 1 Axes>"
      ]
     },
     "metadata": {
      "needs_background": "light"
     },
     "output_type": "display_data"
    }
   ],
   "source": [
    "# testing for normality\n",
    "\n",
    "controlled = df[df.treatment\n",
    "                        == False]['overspent_percentage']\n",
    "\n",
    "treated = df[df.treatment\n",
    "                        == True]['overspent_percentage']\n",
    "\n",
    "\n",
    "import scipy.stats as stats\n",
    "plt.hist(controlled.sample(500))\n",
    "plt.hist(treated.sample(500))\n",
    "\n",
    "from scipy.stats import shapiro\n",
    "\n",
    "data = list(df['overspent_percentage'].sample(50, random_state=1))\n",
    "\n",
    "stat, p = shapiro(data)\n",
    "print('stat=%.3f p=%.13f\\n' % (stat, p))\n",
    "if p > .05:\n",
    "    print('Probably a Gaussian Normal Distribution')\n",
    "else:\n",
    "    print('Probably not a Gaussian Normal Distribution')"
   ]
  },
  {
   "cell_type": "markdown",
   "metadata": {},
   "source": [
    "### Normalizing"
   ]
  },
  {
   "cell_type": "code",
   "execution_count": 57,
   "metadata": {
    "scrolled": true
   },
   "outputs": [],
   "source": [
    "from scipy.special import lambertw\n",
    "\n",
    "h = lambertw(df['overspent_percentage'])\n",
    "\n",
    "df['overspent_percentage_lam'] =  [c.real for c in h]\n",
    "\n",
    "\n",
    "# df.replace([np.inf, -np.inf], np.nan, inplace=True)\n",
    "# df.dropna(inplace=True)"
   ]
  },
  {
   "cell_type": "code",
   "execution_count": 58,
   "metadata": {},
   "outputs": [],
   "source": [
    "#using log transformation for normalization\n",
    "\n",
    "df['overspent_percentage_log']  = np.log10(df['overspent_percentage'])\n",
    "\n",
    "\n",
    "df.replace([np.inf, -np.inf], np.nan, inplace=True)\n",
    "df.dropna(inplace=True)"
   ]
  },
  {
   "cell_type": "code",
   "execution_count": 59,
   "metadata": {},
   "outputs": [],
   "source": [
    "#using boxcox transformation for normalization\n",
    "from scipy import stats\n",
    "\n",
    "df['overspent_percentage_box'], _  = stats.boxcox(df['overspent_percentage'])\n",
    "\n",
    "\n",
    "# df.replace([np.inf, -np.inf], np.nan, inplace=True)\n",
    "# df.dropna(inplace=True)"
   ]
  },
  {
   "cell_type": "code",
   "execution_count": 60,
   "metadata": {},
   "outputs": [
    {
     "data": {
      "text/plain": [
       "0        7.188800\n",
       "1        6.051783\n",
       "2        3.378319\n",
       "3        0.575160\n",
       "4        2.812698\n",
       "           ...   \n",
       "15469    4.377562\n",
       "15470    3.935570\n",
       "15471    1.970517\n",
       "15472    4.341205\n",
       "15473   -0.574111\n",
       "Name: overspent_percentage_box, Length: 15472, dtype: float64"
      ]
     },
     "execution_count": 60,
     "metadata": {},
     "output_type": "execute_result"
    }
   ],
   "source": [
    "df['overspent_percentage_box']"
   ]
  },
  {
   "cell_type": "markdown",
   "metadata": {},
   "source": [
    "### Compairing normalization strategies"
   ]
  },
  {
   "cell_type": "code",
   "execution_count": 65,
   "metadata": {},
   "outputs": [
    {
     "name": "stdout",
     "output_type": "stream",
     "text": [
      "------------df Skew & kurtosis--------\n",
      "4.150853297096572\n",
      "18.636675221853743\n",
      "------------Log Skew & kurtosis--------\n",
      "-0.7311857303101513\n",
      "1.3144369660261637\n",
      "------------lambertw Skew & kurtosis--------\n",
      "0.13914255659553354\n",
      "-0.22489697593777036\n",
      "------------Boxcox Skew & kurtosis--------\n",
      "0.013956714343676254\n",
      "0.2628046134169648\n"
     ]
    }
   ],
   "source": [
    "from scipy.stats import skew, kurtosis\n",
    "#calculate sample skewness\n",
    "print('------------df Skew & kurtosis--------')\n",
    "print(skew(df['overspent_percentage'], bias=False))\n",
    "\n",
    "#calculate sample kurtosis\n",
    "print(kurtosis(df['overspent_percentage'], bias=False))\n",
    "\n",
    "#calculate sample skewness\n",
    "print('------------Log Skew & kurtosis--------')\n",
    "print(skew(df['overspent_percentage_log'], bias=False))\n",
    "\n",
    "#calculate sample kurtosis\n",
    "print(kurtosis(df['overspent_percentage_log'], bias=False))\n",
    "\n",
    "#calculate sample skewness\n",
    "print('------------lambertw Skew & kurtosis--------')\n",
    "print(skew(df['overspent_percentage_lam'], bias=False))\n",
    "\n",
    "#calculate sample kurtosis\n",
    "print(kurtosis(df['overspent_percentage_lam'], bias=False))\n",
    "\n",
    "#calculate sample skewness\n",
    "print('------------Boxcox Skew & kurtosis--------')\n",
    "print(skew(df['overspent_percentage_box'], bias=False))\n",
    "\n",
    "#calculate sample kurtosis\n",
    "print(kurtosis(df['overspent_percentage_box'], bias=False))\n"
   ]
  },
  {
   "cell_type": "markdown",
   "metadata": {},
   "source": [
    "We'll use the log distribution while keeping in mind that has a skew of 0.139"
   ]
  },
  {
   "cell_type": "code",
   "execution_count": 66,
   "metadata": {
    "scrolled": true
   },
   "outputs": [
    {
     "name": "stdout",
     "output_type": "stream",
     "text": [
      "stat=0.966 p=0.156\n",
      "\n",
      "We reject the null Hypothesis: Probably a Gaussian Normal Distribution\n"
     ]
    },
    {
     "data": {
      "text/plain": [
       "(array([  1.,   0.,   2.,   3.,  11.,  45., 101., 165., 150.,  22.]),\n",
       " array([-3.11752815, -2.54556753, -1.97360692, -1.4016463 , -0.82968569,\n",
       "        -0.25772507,  0.31423554,  0.88619616,  1.45815677,  2.03011739,\n",
       "         2.602078  ]),\n",
       " <a list of 10 Patch objects>)"
      ]
     },
     "execution_count": 66,
     "metadata": {},
     "output_type": "execute_result"
    },
    {
     "data": {
      "image/png": "[encoded data removed]",
      "text/plain": [
       "<Figure size 432x288 with 1 Axes>"
      ]
     },
     "metadata": {
      "needs_background": "light"
     },
     "output_type": "display_data"
    }
   ],
   "source": [
    "# testing for normality\n",
    "controlled_data = df[df.treatment\n",
    "                        == False]['overspent_percentage_log']\n",
    "\n",
    "treated_data = df[df.treatment\n",
    "                        == True]['overspent_percentage_log']\n",
    "\n",
    "from scipy.stats import shapiro\n",
    "\n",
    "data = list(df['overspent_percentage_box'].sample(50, random_state=80))\n",
    "\n",
    "stat, p = shapiro(data)\n",
    "print('stat=%.3f p=%.3f\\n' % (stat, p))\n",
    "if p > .05:\n",
    "    print('We reject the null Hypothesis: Probably a Gaussian Normal Distribution')\n",
    "else:\n",
    "    print('Probably not a Gaussian Normal Distribution')\n",
    "\n",
    "import scipy.stats as stats\n",
    "plt.hist(controlled_data.sample(500))\n",
    "plt.hist(treated_data.sample(500))"
   ]
  },
  {
   "cell_type": "markdown",
   "metadata": {},
   "source": [
    "## Bartlett Test for Homogeneity"
   ]
  },
  {
   "cell_type": "code",
   "execution_count": 67,
   "metadata": {
    "scrolled": true
   },
   "outputs": [
    {
     "data": {
      "text/html": [
       "<div>\n",
       "<style scoped>\n",
       "    .dataframe tbody tr th:only-of-type {\n",
       "        vertical-align: middle;\n",
       "    }\n",
       "\n",
       "    .dataframe tbody tr th {\n",
       "        vertical-align: top;\n",
       "    }\n",
       "\n",
       "    .dataframe thead th {\n",
       "        text-align: right;\n",
       "    }\n",
       "</style>\n",
       "<table border=\"1\" class=\"dataframe\">\n",
       "  <thead>\n",
       "    <tr style=\"text-align: right;\">\n",
       "      <th></th>\n",
       "      <th>T</th>\n",
       "      <th>pval</th>\n",
       "      <th>equal_var</th>\n",
       "    </tr>\n",
       "  </thead>\n",
       "  <tbody>\n",
       "    <tr>\n",
       "      <th>bartlett</th>\n",
       "      <td>8.408755</td>\n",
       "      <td>0.003734</td>\n",
       "      <td>False</td>\n",
       "    </tr>\n",
       "  </tbody>\n",
       "</table>\n",
       "</div>"
      ],
      "text/plain": [
       "                 T      pval  equal_var\n",
       "bartlett  8.408755  0.003734      False"
      ]
     },
     "execution_count": 67,
     "metadata": {},
     "output_type": "execute_result"
    }
   ],
   "source": [
    "import pingouin as pg\n",
    "\n",
    "# Bartlett's test with pingouin:\n",
    "pg.homoscedasticity(df, dv='overspent_percentage_log', \n",
    "                    group='treatment', method='bartlett')"
   ]
  },
  {
   "cell_type": "markdown",
   "metadata": {},
   "source": [
    "If ANOVA is used, we might reject the null hypothesis wrongefully due to unequal variance"
   ]
  },
  {
   "cell_type": "code",
   "execution_count": 68,
   "metadata": {
    "scrolled": false
   },
   "outputs": [
    {
     "data": {
      "text/html": [
       "<div>\n",
       "<style scoped>\n",
       "    .dataframe tbody tr th:only-of-type {\n",
       "        vertical-align: middle;\n",
       "    }\n",
       "\n",
       "    .dataframe tbody tr th {\n",
       "        vertical-align: top;\n",
       "    }\n",
       "\n",
       "    .dataframe thead th {\n",
       "        text-align: right;\n",
       "    }\n",
       "</style>\n",
       "<table border=\"1\" class=\"dataframe\">\n",
       "  <thead>\n",
       "    <tr style=\"text-align: right;\">\n",
       "      <th></th>\n",
       "      <th>T</th>\n",
       "      <th>pval</th>\n",
       "      <th>equal_var</th>\n",
       "    </tr>\n",
       "  </thead>\n",
       "  <tbody>\n",
       "    <tr>\n",
       "      <th>bartlett</th>\n",
       "      <td>1.642314</td>\n",
       "      <td>0.200008</td>\n",
       "      <td>True</td>\n",
       "    </tr>\n",
       "  </tbody>\n",
       "</table>\n",
       "</div>"
      ],
      "text/plain": [
       "                 T      pval  equal_var\n",
       "bartlett  1.642314  0.200008       True"
      ]
     },
     "execution_count": 68,
     "metadata": {},
     "output_type": "execute_result"
    }
   ],
   "source": [
    "import pingouin as pg\n",
    "\n",
    "# Bartlett's test with pingouin:\n",
    "pg.homoscedasticity(df.sample(500), dv='overspent_percentage_log', \n",
    "                    group='treatment', method='bartlett')"
   ]
  },
  {
   "cell_type": "markdown",
   "metadata": {},
   "source": [
    "However, it tests positive for homogeneity with a sample size of 50. We'll go ahead and use the ANOVA Test"
   ]
  },
  {
   "cell_type": "markdown",
   "metadata": {},
   "source": [
    "# Hypothesis Testing\n",
    "1st null hypothesis: The product has no effect on overspending.\n",
    "\n",
    "2st null hypothesis: The company size has no effect on overspending.\n",
    "    \n",
    "3st null hypothesis: The interaction between the product and the company size & treatment has no effect on overspending"
   ]
  },
  {
   "cell_type": "markdown",
   "metadata": {},
   "source": [
    "## T-Test"
   ]
  },
  {
   "cell_type": "code",
   "execution_count": 69,
   "metadata": {},
   "outputs": [
    {
     "name": "stdout",
     "output_type": "stream",
     "text": [
      "stat=0.752. p=0.4521577311846\n",
      "\n",
      "There was no statistically significant difference between the two groups.\n"
     ]
    }
   ],
   "source": [
    "from scipy import stats\n",
    "\n",
    "x = df['overspent_percentage_lam'][df['treatment'] == False]\n",
    "\n",
    "y = df['overspent_percentage_lam'][df['treatment'] == True]\n",
    "\n",
    "\n",
    "f, p = stats.ttest_ind(x, y, equal_var = True)\n",
    "print('stat=%.3f. p=%.13f\\n' % (f, p))\n",
    "if p < .05:\n",
    "    print('We reject the null Hypothesis: There is a statistically significant difference between the two groups.')\n",
    "else:\n",
    "    print('There was no statistically significant difference between the two groups.')\n",
    "    "
   ]
  },
  {
   "cell_type": "markdown",
   "metadata": {},
   "source": [
    "## Two-Way ANOVA Test"
   ]
  },
  {
   "cell_type": "markdown",
   "metadata": {},
   "source": [
    "Performing ANOVA Test with on the dataset without the outliers"
   ]
  },
  {
   "cell_type": "code",
   "execution_count": 70,
   "metadata": {},
   "outputs": [],
   "source": [
    "# transforming to log distibution\n",
    "df_without_outliers['overspent_percentage_log']  = np.log10(df['overspent_percentage'])\n",
    "\n",
    "\n",
    "df_without_outliers.replace([np.inf, -np.inf], np.nan, inplace=True)\n",
    "df_without_outliers.dropna(inplace=True)\n"
   ]
  },
  {
   "cell_type": "code",
   "execution_count": 71,
   "metadata": {},
   "outputs": [
    {
     "data": {
      "text/html": [
       "<div>\n",
       "<style scoped>\n",
       "    .dataframe tbody tr th:only-of-type {\n",
       "        vertical-align: middle;\n",
       "    }\n",
       "\n",
       "    .dataframe tbody tr th {\n",
       "        vertical-align: top;\n",
       "    }\n",
       "\n",
       "    .dataframe thead th {\n",
       "        text-align: right;\n",
       "    }\n",
       "</style>\n",
       "<table border=\"1\" class=\"dataframe\">\n",
       "  <thead>\n",
       "    <tr style=\"text-align: right;\">\n",
       "      <th></th>\n",
       "      <th>T</th>\n",
       "      <th>pval</th>\n",
       "      <th>equal_var</th>\n",
       "    </tr>\n",
       "  </thead>\n",
       "  <tbody>\n",
       "    <tr>\n",
       "      <th>bartlett</th>\n",
       "      <td>9.050024</td>\n",
       "      <td>0.002627</td>\n",
       "      <td>False</td>\n",
       "    </tr>\n",
       "  </tbody>\n",
       "</table>\n",
       "</div>"
      ],
      "text/plain": [
       "                 T      pval  equal_var\n",
       "bartlett  9.050024  0.002627      False"
      ]
     },
     "execution_count": 71,
     "metadata": {},
     "output_type": "execute_result"
    }
   ],
   "source": [
    "import pingouin as pg\n",
    "\n",
    "# Bartlett's test with pingouin:\n",
    "pg.homoscedasticity(df_without_outliers, dv='overspent_percentage_log', \n",
    "                    group='treatment', method='bartlett')"
   ]
  },
  {
   "cell_type": "markdown",
   "metadata": {},
   "source": [
    "###### 1st Model: Without using outliers but fixing heteroscedasticity"
   ]
  },
  {
   "cell_type": "code",
   "execution_count": 72,
   "metadata": {
    "scrolled": true
   },
   "outputs": [
    {
     "name": "stdout",
     "output_type": "stream",
     "text": [
      "                               OLS Regression Results                               \n",
      "====================================================================================\n",
      "Dep. Variable:     overspent_percentage_log   R-squared:                       0.029\n",
      "Model:                                  OLS   Adj. R-squared:                  0.029\n",
      "Method:                       Least Squares   F-statistic:                     91.18\n",
      "Date:                      Sun, 25 Apr 2021   Prob (F-statistic):           6.90e-95\n",
      "Time:                              17:28:14   Log-Likelihood:                -16383.\n",
      "No. Observations:                     15391   AIC:                         3.278e+04\n",
      "Df Residuals:                         15385   BIC:                         3.282e+04\n",
      "Df Model:                                 5                                         \n",
      "Covariance Type:                        HC3                                         \n",
      "==================================================================================================================\n",
      "                                                     coef    std err          z      P>|z|      [0.025      0.975]\n",
      "------------------------------------------------------------------------------------------------------------------\n",
      "Intercept                                          0.9794      0.013     74.252      0.000       0.954       1.005\n",
      "C(treatment)[T.True]                              -0.0096      0.019     -0.511      0.609      -0.047       0.027\n",
      "C(company_size)[T.medium]                         -0.1181      0.031     -3.821      0.000      -0.179      -0.058\n",
      "C(company_size)[T.small]                           0.2421      0.017     14.079      0.000       0.208       0.276\n",
      "C(treatment)[T.True]:C(company_size)[T.medium]     0.1396      0.044      3.209      0.001       0.054       0.225\n",
      "C(treatment)[T.True]:C(company_size)[T.small]     -0.0258      0.024     -1.068      0.285      -0.073       0.022\n",
      "==============================================================================\n",
      "Omnibus:                     1705.840   Durbin-Watson:                   1.942\n",
      "Prob(Omnibus):                  0.000   Jarque-Bera (JB):             2883.270\n",
      "Skew:                          -0.773   Prob(JB):                         0.00\n",
      "Kurtosis:                       4.451   Cond. No.                         12.4\n",
      "==============================================================================\n",
      "\n",
      "Warnings:\n",
      "[1] Standard Errors are heteroscedasticity robust (HC3)\n",
      "                                   sum_sq       df           F        PR(>F)\n",
      "C(treatment)                     0.591746      1.0    1.201930  2.729534e-01\n",
      "C(company_size)                216.745694      2.0  220.122586  5.548934e-95\n",
      "C(treatment):C(company_size)     7.636130      2.0    7.755100  4.302286e-04\n",
      "Residual                      7574.489665  15385.0         NaN           NaN\n"
     ]
    },
    {
     "data": {
      "image/png": "[encoded data removed]",
      "text/plain": [
       "<Figure size 432x288 with 1 Axes>"
      ]
     },
     "metadata": {
      "needs_background": "light"
     },
     "output_type": "display_data"
    }
   ],
   "source": [
    "#perform two-way ANOVA\n",
    "model = ols('overspent_percentage_log ~ C(treatment) + C(company_size) + C(treatment):C(company_size)', data=df_without_outliers).fit(cov_type='HC3')\n",
    "print(model.summary())\n",
    "\n",
    "# Create the ANOVA table\n",
    "res2 = sm.stats.anova_lm(model, typ=2)\n",
    "print(res2)\n",
    "\n",
    "#Check the Normal distribution of residuals\n",
    "res = model.resid\n",
    "fig = sm.qqplot(res, line='s')\n",
    "plt.show()\n"
   ]
  },
  {
   "cell_type": "markdown",
   "metadata": {},
   "source": [
    "R2 = 0.029"
   ]
  },
  {
   "cell_type": "markdown",
   "metadata": {},
   "source": [
    "###### 2nd Model: Without fixing the heteroscedasticity:"
   ]
  },
  {
   "cell_type": "code",
   "execution_count": 73,
   "metadata": {
    "scrolled": true
   },
   "outputs": [
    {
     "name": "stdout",
     "output_type": "stream",
     "text": [
      "                               OLS Regression Results                               \n",
      "====================================================================================\n",
      "Dep. Variable:     overspent_percentage_log   R-squared:                       0.028\n",
      "Model:                                  OLS   Adj. R-squared:                  0.028\n",
      "Method:                       Least Squares   F-statistic:                     89.51\n",
      "Date:                      Sun, 25 Apr 2021   Prob (F-statistic):           3.81e-93\n",
      "Time:                              17:28:20   Log-Likelihood:                -16473.\n",
      "No. Observations:                     15472   AIC:                         3.296e+04\n",
      "Df Residuals:                         15466   BIC:                         3.300e+04\n",
      "Df Model:                                 5                                         \n",
      "Covariance Type:                  nonrobust                                         \n",
      "==================================================================================================================\n",
      "                                                     coef    std err          t      P>|t|      [0.025      0.975]\n",
      "------------------------------------------------------------------------------------------------------------------\n",
      "Intercept                                          0.9804      0.014     72.587      0.000       0.954       1.007\n",
      "C(treatment)[T.True]                              -0.0121      0.020     -0.617      0.537      -0.050       0.026\n",
      "C(company_size)[T.medium]                         -0.1020      0.029     -3.492      0.000      -0.159      -0.045\n",
      "C(company_size)[T.small]                           0.2400      0.017     13.924      0.000       0.206       0.274\n",
      "C(treatment)[T.True]:C(company_size)[T.medium]     0.1312      0.042      3.122      0.002       0.049       0.214\n",
      "C(treatment)[T.True]:C(company_size)[T.small]     -0.0225      0.025     -0.914      0.360      -0.071       0.026\n",
      "==============================================================================\n",
      "Omnibus:                     1726.474   Durbin-Watson:                   1.943\n",
      "Prob(Omnibus):                  0.000   Jarque-Bera (JB):             2918.145\n",
      "Skew:                          -0.777   Prob(JB):                         0.00\n",
      "Kurtosis:                       4.453   Cond. No.                         12.3\n",
      "==============================================================================\n",
      "\n",
      "Warnings:\n",
      "[1] Standard Errors assume that the covariance matrix of the errors is correctly specified.\n",
      "                                   sum_sq       df           F        PR(>F)\n",
      "C(treatment)                     0.645848      1.0    1.311219  2.521918e-01\n",
      "C(company_size)                213.129943      2.0  216.351339  2.138890e-93\n",
      "C(treatment):C(company_size)     7.257420      2.0    7.367114  6.339080e-04\n",
      "Residual                      7617.858317  15466.0         NaN           NaN\n"
     ]
    },
    {
     "data": {
      "image/png": "[encoded data removed]",
      "text/plain": [
       "<Figure size 432x288 with 1 Axes>"
      ]
     },
     "metadata": {
      "needs_background": "light"
     },
     "output_type": "display_data"
    }
   ],
   "source": [
    "#perform two-way ANOVA\n",
    "model = ols('overspent_percentage_log ~ C(treatment) + C(company_size) + C(treatment):C(company_size)', data=df).fit()\n",
    "print(model.summary())\n",
    "\n",
    "# Create the ANOVA table\n",
    "res2 = sm.stats.anova_lm(model, typ=2)\n",
    "print(res2)\n",
    "\n",
    "#Check the Normal distribution of residuals\n",
    "res = model.resid\n",
    "fig = sm.qqplot(res, line='s')\n",
    "plt.show()\n"
   ]
  },
  {
   "cell_type": "markdown",
   "metadata": {},
   "source": [
    "R2 = 0.028"
   ]
  },
  {
   "cell_type": "markdown",
   "metadata": {},
   "source": [
    "###### Final Model: Fixing the heteroscedasticity:"
   ]
  },
  {
   "cell_type": "code",
   "execution_count": 74,
   "metadata": {
    "scrolled": false
   },
   "outputs": [
    {
     "name": "stdout",
     "output_type": "stream",
     "text": [
      "                               OLS Regression Results                               \n",
      "====================================================================================\n",
      "Dep. Variable:     overspent_percentage_log   R-squared:                       0.028\n",
      "Model:                                  OLS   Adj. R-squared:                  0.028\n",
      "Method:                       Least Squares   F-statistic:                     89.08\n",
      "Date:                      Sun, 25 Apr 2021   Prob (F-statistic):           1.07e-92\n",
      "Time:                              17:28:41   Log-Likelihood:                -16473.\n",
      "No. Observations:                     15472   AIC:                         3.296e+04\n",
      "Df Residuals:                         15466   BIC:                         3.300e+04\n",
      "Df Model:                                 5                                         \n",
      "Covariance Type:                        HC3                                         \n",
      "==================================================================================================================\n",
      "                                                     coef    std err          z      P>|z|      [0.025      0.975]\n",
      "------------------------------------------------------------------------------------------------------------------\n",
      "Intercept                                          0.9804      0.013     74.464      0.000       0.955       1.006\n",
      "C(treatment)[T.True]                              -0.0121      0.019     -0.643      0.520      -0.049       0.025\n",
      "C(company_size)[T.medium]                         -0.1020      0.031     -3.340      0.001      -0.162      -0.042\n",
      "C(company_size)[T.small]                           0.2400      0.017     13.981      0.000       0.206       0.274\n",
      "C(treatment)[T.True]:C(company_size)[T.medium]     0.1312      0.043      3.045      0.002       0.047       0.216\n",
      "C(treatment)[T.True]:C(company_size)[T.small]     -0.0225      0.024     -0.932      0.351      -0.070       0.025\n",
      "==============================================================================\n",
      "Omnibus:                     1726.474   Durbin-Watson:                   1.943\n",
      "Prob(Omnibus):                  0.000   Jarque-Bera (JB):             2918.145\n",
      "Skew:                          -0.777   Prob(JB):                         0.00\n",
      "Kurtosis:                       4.453   Cond. No.                         12.3\n",
      "==============================================================================\n",
      "\n",
      "Warnings:\n",
      "[1] Standard Errors are heteroscedasticity robust (HC3)\n",
      "                                   sum_sq       df           F        PR(>F)\n",
      "C(treatment)                     0.705485      1.0    1.432297  2.314083e-01\n",
      "C(company_size)                212.563613      2.0  215.776449  3.741739e-93\n",
      "C(treatment):C(company_size)     6.725827      2.0    6.827486  1.086848e-03\n",
      "Residual                      7617.858317  15466.0         NaN           NaN\n"
     ]
    },
    {
     "data": {
      "image/png": "[encoded data removed]",
      "text/plain": [
       "<Figure size 432x288 with 1 Axes>"
      ]
     },
     "metadata": {
      "needs_background": "light"
     },
     "output_type": "display_data"
    }
   ],
   "source": [
    "#perform two-way ANOVA\n",
    "model = ols('overspent_percentage_log ~ C(treatment) + C(company_size) + C(treatment):C(company_size)', data=df).fit(cov_type='HC3')\n",
    "print(model.summary())\n",
    "\n",
    "# Create the ANOVA table\n",
    "res2 = sm.stats.anova_lm(model, typ=2)\n",
    "print(res2)\n",
    "\n",
    "#Check the Normal distribution of residuals\n",
    "res = model.resid\n",
    "fig = sm.qqplot(res, line='s')\n",
    "plt.show()\n"
   ]
  },
  {
   "cell_type": "markdown",
   "metadata": {},
   "source": [
    "R2 = 0.028 \n",
    "We'll use this model since its robust to heteroscedasticity  and also has outliers to help with generalization"
   ]
  },
  {
   "cell_type": "markdown",
   "metadata": {},
   "source": [
    "### Treatment:\n",
    "##### P-Value(risk) = 23.1% (Accept the 1st null hypothesis)\n",
    "##### The product alone played no statistically significant difference on overspending\n",
    "\n",
    "### Company Size:\n",
    "##### P-Value(risk) = 3.74e-91% (Reject the 2nd null hypothesis)\n",
    "##### The company size alone plays a statistically significant difference on overspending\n",
    "\n",
    "### Treatment & Company SIze:\n",
    "##### P-Value(risk) = 0.11% (Reject the 3rd null hypothesis)\n",
    "##### The interaction between the product and the company size played a statistically significant difference on overspending\n",
    "\n"
   ]
  },
  {
   "cell_type": "markdown",
   "metadata": {},
   "source": [
    "## Pairwise TukeyHSD Test For Interaction"
   ]
  },
  {
   "cell_type": "code",
   "execution_count": 75,
   "metadata": {
    "scrolled": true
   },
   "outputs": [
    {
     "name": "stdout",
     "output_type": "stream",
     "text": [
      "Multiple Comparison of Means - Tukey HSD, FWER=0.05\n",
      "===================================================\n",
      "group1 group2 meandiff p-adj   lower  upper  reject\n",
      "---------------------------------------------------\n",
      " False   True  -0.0038 0.7485 -0.0263 0.0186  False\n",
      "---------------------------------------------------\n"
     ]
    }
   ],
   "source": [
    "import statsmodels\n",
    "# perfrming tukeyhsd test to the treatment had a statistically significant difference on overspending\n",
    "mc = statsmodels.stats.multicomp.MultiComparison(df['overspent_percentage_log'],df['treatment'])\n",
    "mc_results = mc.tukeyhsd()\n",
    "print(mc_results)"
   ]
  },
  {
   "cell_type": "markdown",
   "metadata": {},
   "source": [
    "There is no statistically significant difference"
   ]
  },
  {
   "cell_type": "code",
   "execution_count": 76,
   "metadata": {
    "scrolled": true
   },
   "outputs": [
    {
     "name": "stdout",
     "output_type": "stream",
     "text": [
      "Multiple Comparison of Means - Tukey HSD, FWER=0.05\n",
      "===================================================\n",
      "group1 group2 meandiff p-adj   lower  upper  reject\n",
      "---------------------------------------------------\n",
      " large medium  -0.0385 0.1596 -0.0877 0.0108  False\n",
      " large  small   0.2278  0.001   0.199 0.2567   True\n",
      "medium  small   0.2663  0.001  0.2194 0.3132   True\n",
      "---------------------------------------------------\n"
     ]
    }
   ],
   "source": [
    "# perfrming tukeyhsd test to see which category in company size had a statistically significant difference on overspending\n",
    "mc = statsmodels.stats.multicomp.MultiComparison(df['overspent_percentage_log'],df['company_size'])\n",
    "mc_results = mc.tukeyhsd()\n",
    "print(mc_results)"
   ]
  },
  {
   "cell_type": "markdown",
   "metadata": {},
   "source": [
    "There is a statistically significant difference for large to small and medium to small companies"
   ]
  },
  {
   "cell_type": "code",
   "execution_count": 77,
   "metadata": {},
   "outputs": [
    {
     "data": {
      "text/html": [
       "<div>\n",
       "<style scoped>\n",
       "    .dataframe tbody tr th:only-of-type {\n",
       "        vertical-align: middle;\n",
       "    }\n",
       "\n",
       "    .dataframe tbody tr th {\n",
       "        vertical-align: top;\n",
       "    }\n",
       "\n",
       "    .dataframe thead th {\n",
       "        text-align: right;\n",
       "    }\n",
       "</style>\n",
       "<table border=\"1\" class=\"dataframe\">\n",
       "  <thead>\n",
       "    <tr style=\"text-align: right;\">\n",
       "      <th></th>\n",
       "      <th>reject1</th>\n",
       "      <th>reject2</th>\n",
       "      <th>total_sum</th>\n",
       "    </tr>\n",
       "  </thead>\n",
       "  <tbody>\n",
       "    <tr>\n",
       "      <th>False / medium</th>\n",
       "      <td>4.0</td>\n",
       "      <td>1.0</td>\n",
       "      <td>5.0</td>\n",
       "    </tr>\n",
       "    <tr>\n",
       "      <th>False / small</th>\n",
       "      <td>2.0</td>\n",
       "      <td>2.0</td>\n",
       "      <td>4.0</td>\n",
       "    </tr>\n",
       "    <tr>\n",
       "      <th>True / small</th>\n",
       "      <td>0.0</td>\n",
       "      <td>4.0</td>\n",
       "      <td>4.0</td>\n",
       "    </tr>\n",
       "    <tr>\n",
       "      <th>False / large</th>\n",
       "      <td>3.0</td>\n",
       "      <td>0.0</td>\n",
       "      <td>3.0</td>\n",
       "    </tr>\n",
       "    <tr>\n",
       "      <th>True / large</th>\n",
       "      <td>1.0</td>\n",
       "      <td>2.0</td>\n",
       "      <td>3.0</td>\n",
       "    </tr>\n",
       "    <tr>\n",
       "      <th>True / medium</th>\n",
       "      <td>1.0</td>\n",
       "      <td>2.0</td>\n",
       "      <td>3.0</td>\n",
       "    </tr>\n",
       "  </tbody>\n",
       "</table>\n",
       "</div>"
      ],
      "text/plain": [
       "                reject1  reject2  total_sum\n",
       "False / medium      4.0      1.0        5.0\n",
       "False / small       2.0      2.0        4.0\n",
       "True / small        0.0      4.0        4.0\n",
       "False / large       3.0      0.0        3.0\n",
       "True / large        1.0      2.0        3.0\n",
       "True / medium       1.0      2.0        3.0"
      ]
     },
     "execution_count": 77,
     "metadata": {},
     "output_type": "execute_result"
    }
   ],
   "source": [
    "# perfrming pairwias_tukeyhsd test to see which pairs had a statistically significant difference on overspending\n",
    "from statsmodels.stats.multicomp import pairwise_tukeyhsd\n",
    "\n",
    "anova_df= df\n",
    "anova_df.treatment = anova_df.treatment.astype(str)\n",
    "anova_df['combination'] = anova_df.treatment + \" / \" + anova_df.company_size\n",
    "\n",
    "# perform multiple pairwise comparison (Tukey HSD)\n",
    "m_comp = pairwise_tukeyhsd(endog=anova_df['overspent_percentage_log'], groups=anova_df['combination'], alpha=0.05)\n",
    "\n",
    "# coerce the tukeyhsd table to a DataFrame\n",
    "tukey_data = pd.DataFrame(data=m_comp._results_table.data[1:], columns = m_comp._results_table.data[0])\n",
    "\n",
    "group1_comp =tukey_data.loc[tukey_data.reject == True].groupby('group1').reject.count()\n",
    "group2_comp = tukey_data.loc[tukey_data.reject == True].groupby('group2').reject.count()\n",
    "tukey_data = pd.concat([group1_comp, group2_comp], axis=1)\n",
    "\n",
    "tukey_data = tukey_data.fillna(0)\n",
    "tukey_data.columns = ['reject1', 'reject2']\n",
    "tukey_data['total_sum'] = tukey_data.reject1 + tukey_data.reject2\n",
    "\n",
    "# just show the top 20 results\n",
    "tukey_data.sort_values('total_sum',ascending=False)"
   ]
  },
  {
   "cell_type": "code",
   "execution_count": 78,
   "metadata": {},
   "outputs": [
    {
     "data": {
      "text/plain": [
       "<matplotlib.legend.Legend at 0x189f47882b0>"
      ]
     },
     "execution_count": 78,
     "metadata": {},
     "output_type": "execute_result"
    },
    {
     "data": {
      "image/png": "[encoded data removed]",
      "text/plain": [
       "<Figure size 720x720 with 1 Axes>"
      ]
     },
     "metadata": {
      "needs_background": "light"
     },
     "output_type": "display_data"
    }
   ],
   "source": [
    "# plotting a histogram for the overspending% and the campaign budget by company size\n",
    "fig, axes = plt.subplots(1, 1, figsize=(10,10))\n",
    "\n",
    "fig.subplots_adjust(left=0.1,\n",
    "                    bottom=0.1, \n",
    "                    right=1.4, \n",
    "                    top=0.9, \n",
    "                    wspace=0.4, \n",
    "                    hspace=0.4)\n",
    "\n",
    "\n",
    "\n",
    "ax = sns.barplot(y=\"overspent_percentage\", x=\"company_size\", hue=\"treatment\", \n",
    "                  palette=[\"b\", \"r\"], data=df_without_outliers, ax=axes)\n",
    "# .set(yscale = \"log\")\n",
    "## ax1.set(xlim=(0,30000),ylim=(0,30000))\n",
    "ax.set_title(\"Overspending Percentage vs Company Size\", fontsize = 40)\n",
    "ax.set_ylabel(\"Overspending Percentage\", fontsize = 35)\n",
    "ax.set_xlabel(\"Company Size\", fontsize = 35)\n",
    "ax.legend(fontsize = 18, title_fontsize='20')\n",
    "ax.tick_params(axis='both', which='both', labelsize = 25)\n",
    "ax.legend(title='Treatment',  bbox_to_anchor=(1, 1), fontsize = 18, title_fontsize='20')\n"
   ]
  },
  {
   "cell_type": "markdown",
   "metadata": {},
   "source": [
    "### Results: \n",
    "##### Small compaies: The null hypothesis was rejected 4 times on average (Statistically Significant)\n",
    "##### Medium sized companies: The null hpyothesis was rejected 4 times on average (Statistically significant)\n",
    "##### Large companies: The null hypothesis was rejected 3 times on average (Statistically insignificant)\n",
    "\n",
    "### Conclusion: \n",
    "#### The product has a significant effect on the overspending rate especially in the Small companies. And from the visualization earlier, it can be seen that overspending was reduced eventhough they reduced their budget while on the new product.\n",
    "\n",
    "### Recommendation: \n",
    "#### 1) Use the product only on the small companies and develop better products for the medium and large size companies.\n",
    "#### 2) Try different techniques to take care of the heteroscedasticity like the weighted regression model."
   ]
  },
  {
   "cell_type": "markdown",
   "metadata": {},
   "source": [
    " "
   ]
  },
  {
   "cell_type": "markdown",
   "metadata": {},
   "source": [
    " "
   ]
  },
  {
   "cell_type": "markdown",
   "metadata": {},
   "source": [
    " "
   ]
  }
 ],
 "metadata": {
  "kernelspec": {
   "display_name": "Python [conda env:learn-env] *",
   "language": "python",
   "name": "conda-env-learn-env-py"
  },
  "language_info": {
   "codemirror_mode": {
    "name": "ipython",
    "version": 3
   },
   "file_extension": ".py",
   "mimetype": "text/x-python",
   "name": "python",
   "nbconvert_exporter": "python",
   "pygments_lexer": "ipython3",
   "version": "3.6.9"
  }
 },
 "nbformat": 4,
 "nbformat_minor": 2
}
