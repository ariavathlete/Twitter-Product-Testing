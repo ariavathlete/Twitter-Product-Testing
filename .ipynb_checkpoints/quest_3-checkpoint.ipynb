{
 "cells": [
  {
   "cell_type": "markdown",
   "metadata": {},
   "source": [
    "### Twitter Advertising Campaign\n",
    "#### Ari Iwunze\n",
    "##### Abstract:\n",
    "\n",
    "Twitter has been noticing an increase in overspend on the platform. In an attempt to reduce the amount of overspend, they decided to create a new product where advertisers pay each time their ad appears in a user’s viewport rather than each time it is clicked on -- presumably these engagements would be received at a lower latency. In order to test the\n",
    "new product, we ran an A/B test. We randomly split the advertisers on the platform. Half of the advertisers remained on the old product and half received the new product. A week later we have some data and want to determine whether or not the experiment was a success.\n",
    "\n",
    "3. A product manager on the team is concerned that certain advertisers in the treatment group are entering lower budgets because they are wary of the new product. Provide some evidence to support their suspicions, or show that any differences in budgets are likely due to random fluctuations."
   ]
  },
  {
   "cell_type": "markdown",
   "metadata": {},
   "source": [
    "##### Business Goal: \n",
    "1. Reduce overspending.\n",
    "2. Increase Consumers budget.\n",
    "3. Increase Customer satisfaction.\n",
    "\n",
    "##### Metrics:\n",
    "1. Overspending: We want to see that overspending reduced in the treatment group.\n",
    "2. Budget: Want to see that the average campaign buget increased in the treatment group.\n",
    "    "
   ]
  },
  {
   "cell_type": "markdown",
   "metadata": {},
   "source": [
    "#### Import and explore dataset"
   ]
  },
  {
   "cell_type": "code",
   "execution_count": 413,
   "metadata": {
    "scrolled": true
   },
   "outputs": [],
   "source": [
    "import pandas as pd\n",
    "import numpy as np\n",
    "import seaborn as sns\n",
    "import scipy.stats as ss \n",
    "import scipy.stats as stats\n",
    "import warnings\n",
    "import matplotlib.pyplot as plt\n",
    "import seaborn as sns\n",
    "from statsmodels.formula.api import ols\n",
    "import statsmodels.stats.api as sms\n",
    "import statsmodels.api as sm\n",
    "from math import ceil\n",
    "import warnings\n",
    "warnings.filterwarnings('ignore')\n"
   ]
  },
  {
   "cell_type": "code",
   "execution_count": 414,
   "metadata": {},
   "outputs": [],
   "source": [
    "# loading the csv file into a pandas datframe\n",
    "df = pd.read_excel(r'analytical_take_home_data_v2.xlsx')"
   ]
  },
  {
   "cell_type": "code",
   "execution_count": 415,
   "metadata": {
    "scrolled": true
   },
   "outputs": [
    {
     "data": {
      "text/plain": [
       "treatment          0\n",
       "company_size       0\n",
       "campaign_spend     0\n",
       "campaign_budget    0\n",
       "dtype: int64"
      ]
     },
     "execution_count": 415,
     "metadata": {},
     "output_type": "execute_result"
    }
   ],
   "source": [
    "# counting the number of missing valus\n",
    "df.isna().sum()"
   ]
  },
  {
   "cell_type": "markdown",
   "metadata": {},
   "source": [
    "  "
   ]
  },
  {
   "cell_type": "markdown",
   "metadata": {},
   "source": [
    "# Feature Engingeering"
   ]
  },
  {
   "cell_type": "code",
   "execution_count": 416,
   "metadata": {},
   "outputs": [],
   "source": [
    "# calculating over spending \n",
    "df['overspent_percentage'] = (\n",
    "    np.abs(df['campaign_spend'] - df['campaign_budget'])/ df['campaign_budget']) * 100"
   ]
  },
  {
   "cell_type": "code",
   "execution_count": 417,
   "metadata": {},
   "outputs": [],
   "source": [
    "# calculating zscore to view outliers\n",
    "zscore = lambda x: (x - x.mean()) / x.std()\n",
    "df.insert(1, 'ZofO', df.groupby(['company_size'])['campaign_budget'].transform(zscore))\n",
    "\n",
    "df_without_outliers = df[(abs(df.ZofO) <= 3)]\n",
    "df_outliers = df[abs(df.ZofO) >3]"
   ]
  },
  {
   "cell_type": "markdown",
   "metadata": {},
   "source": [
    " "
   ]
  },
  {
   "cell_type": "markdown",
   "metadata": {},
   "source": [
    "# 3. Effects on Budget\n",
    "## Verifying Assumptions Before Two-way Anova Test:"
   ]
  },
  {
   "cell_type": "code",
   "execution_count": 418,
   "metadata": {},
   "outputs": [
    {
     "data": {
      "text/html": [
       "<div>\n",
       "<style scoped>\n",
       "    .dataframe tbody tr th:only-of-type {\n",
       "        vertical-align: middle;\n",
       "    }\n",
       "\n",
       "    .dataframe tbody tr th {\n",
       "        vertical-align: top;\n",
       "    }\n",
       "\n",
       "    .dataframe thead th {\n",
       "        text-align: right;\n",
       "    }\n",
       "</style>\n",
       "<table border=\"1\" class=\"dataframe\">\n",
       "  <thead>\n",
       "    <tr style=\"text-align: right;\">\n",
       "      <th>company_size</th>\n",
       "      <th>large</th>\n",
       "      <th>medium</th>\n",
       "      <th>small</th>\n",
       "    </tr>\n",
       "    <tr>\n",
       "      <th>treatment</th>\n",
       "      <th></th>\n",
       "      <th></th>\n",
       "      <th></th>\n",
       "    </tr>\n",
       "  </thead>\n",
       "  <tbody>\n",
       "    <tr>\n",
       "      <th>False</th>\n",
       "      <td>5933.969190</td>\n",
       "      <td>6342.855039</td>\n",
       "      <td>3538.655751</td>\n",
       "    </tr>\n",
       "    <tr>\n",
       "      <th>True</th>\n",
       "      <td>17561.826014</td>\n",
       "      <td>4612.670890</td>\n",
       "      <td>1585.479895</td>\n",
       "    </tr>\n",
       "  </tbody>\n",
       "</table>\n",
       "</div>"
      ],
      "text/plain": [
       "company_size         large       medium        small\n",
       "treatment                                           \n",
       "False          5933.969190  6342.855039  3538.655751\n",
       "True          17561.826014  4612.670890  1585.479895"
      ]
     },
     "execution_count": 418,
     "metadata": {},
     "output_type": "execute_result"
    }
   ],
   "source": [
    "# budget mean by company size\n",
    "pd.crosstab(df['treatment'],df['company_size'], values=df['campaign_budget'] , aggfunc='mean')"
   ]
  },
  {
   "cell_type": "code",
   "execution_count": 419,
   "metadata": {},
   "outputs": [
    {
     "data": {
      "text/html": [
       "<div>\n",
       "<style scoped>\n",
       "    .dataframe tbody tr th:only-of-type {\n",
       "        vertical-align: middle;\n",
       "    }\n",
       "\n",
       "    .dataframe tbody tr th {\n",
       "        vertical-align: top;\n",
       "    }\n",
       "\n",
       "    .dataframe thead th {\n",
       "        text-align: right;\n",
       "    }\n",
       "</style>\n",
       "<table border=\"1\" class=\"dataframe\">\n",
       "  <thead>\n",
       "    <tr style=\"text-align: right;\">\n",
       "      <th>company_size</th>\n",
       "      <th>large</th>\n",
       "      <th>medium</th>\n",
       "      <th>small</th>\n",
       "    </tr>\n",
       "    <tr>\n",
       "      <th>treatment</th>\n",
       "      <th></th>\n",
       "      <th></th>\n",
       "      <th></th>\n",
       "    </tr>\n",
       "  </thead>\n",
       "  <tbody>\n",
       "    <tr>\n",
       "      <th>False</th>\n",
       "      <td>5404.567979</td>\n",
       "      <td>4473.763322</td>\n",
       "      <td>2947.630134</td>\n",
       "    </tr>\n",
       "    <tr>\n",
       "      <th>True</th>\n",
       "      <td>14073.795146</td>\n",
       "      <td>3674.336649</td>\n",
       "      <td>1816.811513</td>\n",
       "    </tr>\n",
       "  </tbody>\n",
       "</table>\n",
       "</div>"
      ],
      "text/plain": [
       "company_size         large       medium        small\n",
       "treatment                                           \n",
       "False          5404.567979  4473.763322  2947.630134\n",
       "True          14073.795146  3674.336649  1816.811513"
      ]
     },
     "execution_count": 419,
     "metadata": {},
     "output_type": "execute_result"
    }
   ],
   "source": [
    "# spent mean by company size\n",
    "pd.crosstab(df['treatment'],df['company_size'], values=df['campaign_spend'] , aggfunc='mean')"
   ]
  },
  {
   "cell_type": "markdown",
   "metadata": {},
   "source": [
    "## Gaussian Normal Distribution Test"
   ]
  },
  {
   "cell_type": "code",
   "execution_count": 420,
   "metadata": {
    "scrolled": false
   },
   "outputs": [
    {
     "name": "stdout",
     "output_type": "stream",
     "text": [
      "stat=0.026 p=0.0000000000000\n",
      "\n",
      "Probably not a Gaussian Normal Distribution\n"
     ]
    },
    {
     "data": {
      "image/png": "[encoded data removed]",
      "text/plain": [
       "<Figure size 432x288 with 1 Axes>"
      ]
     },
     "metadata": {},
     "output_type": "display_data"
    }
   ],
   "source": [
    "# testing for normality\n",
    "\n",
    "controlled = df[df.treatment\n",
    "                        == False]['campaign_budget']\n",
    "\n",
    "treated = df[df.treatment\n",
    "                        == True]['campaign_budget']\n",
    "\n",
    "\n",
    "import scipy.stats as stats\n",
    "plt.hist(controlled.sample(500))\n",
    "plt.hist(treated.sample(500))\n",
    "\n",
    "from scipy.stats import shapiro\n",
    "\n",
    "data = list(df['campaign_budget'])\n",
    "\n",
    "stat, p = shapiro(data)\n",
    "print('stat=%.3f p=%.13f\\n' % (stat, p))\n",
    "if p > .05:\n",
    "    print('Probably a Gaussian Normal Distribution')\n",
    "else:\n",
    "    print('Probably not a Gaussian Normal Distribution')"
   ]
  },
  {
   "cell_type": "markdown",
   "metadata": {},
   "source": [
    "### Normalizing"
   ]
  },
  {
   "cell_type": "code",
   "execution_count": 421,
   "metadata": {
    "scrolled": true
   },
   "outputs": [],
   "source": [
    "from scipy.special import lambertw\n",
    "\n",
    "h = lambertw(df['campaign_budget'])\n",
    "\n",
    "df['campaign_budget_lam'] =  [c.real for c in h]\n",
    "\n",
    "\n",
    "# df.replace([np.inf, -np.inf], np.nan, inplace=True)\n",
    "# df.dropna(inplace=True)"
   ]
  },
  {
   "cell_type": "code",
   "execution_count": 422,
   "metadata": {},
   "outputs": [],
   "source": [
    "#using log transformation for normalization\n",
    "\n",
    "df['campaign_budget_log']  = np.log10(df['campaign_budget'])\n",
    "\n",
    "\n",
    "df.replace([np.inf, -np.inf], np.nan, inplace=True)\n",
    "df.dropna(inplace=True)"
   ]
  },
  {
   "cell_type": "markdown",
   "metadata": {},
   "source": [
    "### Compairing normalization strategies"
   ]
  },
  {
   "cell_type": "code",
   "execution_count": 423,
   "metadata": {},
   "outputs": [
    {
     "name": "stdout",
     "output_type": "stream",
     "text": [
      "------------Log Skew & kurtosis--------\n",
      "0.8864887536497447\n",
      "0.7477799095720887\n",
      "------------lambertw Skew & kurtosis--------\n",
      "1.219171226297406\n",
      "1.4793030587921363\n"
     ]
    }
   ],
   "source": [
    "from scipy.stats import skew, kurtosis\n",
    "#calculate sample skewness\n",
    "print('------------Log Skew & kurtosis--------')\n",
    "print(skew(df['campaign_budget_log'], bias=False))\n",
    "\n",
    "#calculate sample kurtosis\n",
    "print(kurtosis(df['campaign_budget_log'], bias=False))\n",
    "\n",
    "#calculate sample skewness\n",
    "print('------------lambertw Skew & kurtosis--------')\n",
    "print(skew(df['campaign_budget_lam'], bias=False))\n",
    "\n",
    "#calculate sample kurtosis\n",
    "print(kurtosis(df['campaign_budget_lam'], bias=False))\n"
   ]
  },
  {
   "cell_type": "markdown",
   "metadata": {},
   "source": [
    "We'll use the log distribution since it has less skew i.e its skew is closer to 0 than the lambertw distribution"
   ]
  },
  {
   "cell_type": "code",
   "execution_count": 424,
   "metadata": {
    "scrolled": true
   },
   "outputs": [
    {
     "name": "stdout",
     "output_type": "stream",
     "text": [
      "stat=0.973 p=0.302\n",
      "\n",
      "We reject the null Hypothesis: Probably a Gaussian Normal Distribution\n"
     ]
    },
    {
     "data": {
      "text/plain": [
       "(array([  18.,  607., 2523., 2495., 1037.,  498.,  417.,  105.,   36.,\n",
       "           5.]),\n",
       " array([-1.03668449, -0.2319738 ,  0.5727369 ,  1.37744759,  2.18215828,\n",
       "         2.98686897,  3.79157966,  4.59629036,  5.40100105,  6.20571174,\n",
       "         7.01042243]),\n",
       " <a list of 10 Patch objects>)"
      ]
     },
     "execution_count": 424,
     "metadata": {},
     "output_type": "execute_result"
    },
    {
     "data": {
      "image/png": "[encoded data removed]",
      "text/plain": [
       "<Figure size 432x288 with 1 Axes>"
      ]
     },
     "metadata": {},
     "output_type": "display_data"
    }
   ],
   "source": [
    "# testing for normality\n",
    "controlled_data = df[df.treatment\n",
    "                        == False]['campaign_budget_log']\n",
    "\n",
    "treated_data = df[df.treatment\n",
    "                        == True]['campaign_budget_log']\n",
    "\n",
    "from scipy.stats import shapiro\n",
    "\n",
    "data = list(df['campaign_budget_log'].sample(50, random_state=80))\n",
    "\n",
    "stat, p = shapiro(data)\n",
    "print('stat=%.3f p=%.3f\\n' % (stat, p))\n",
    "if p > .05:\n",
    "    print('We reject the null Hypothesis: Probably a Gaussian Normal Distribution')\n",
    "else:\n",
    "    print('Probably not a Gaussian Normal Distribution')\n",
    "\n",
    "import scipy.stats as stats\n",
    "plt.hist(controlled_data)\n",
    "plt.hist(treated_data)"
   ]
  },
  {
   "cell_type": "markdown",
   "metadata": {},
   "source": [
    "## Bartlett Test for Homogeneity"
   ]
  },
  {
   "cell_type": "code",
   "execution_count": 425,
   "metadata": {
    "scrolled": true
   },
   "outputs": [
    {
     "data": {
      "text/html": [
       "<div>\n",
       "<style scoped>\n",
       "    .dataframe tbody tr th:only-of-type {\n",
       "        vertical-align: middle;\n",
       "    }\n",
       "\n",
       "    .dataframe tbody tr th {\n",
       "        vertical-align: top;\n",
       "    }\n",
       "\n",
       "    .dataframe thead th {\n",
       "        text-align: right;\n",
       "    }\n",
       "</style>\n",
       "<table border=\"1\" class=\"dataframe\">\n",
       "  <thead>\n",
       "    <tr style=\"text-align: right;\">\n",
       "      <th></th>\n",
       "      <th>T</th>\n",
       "      <th>pval</th>\n",
       "      <th>equal_var</th>\n",
       "    </tr>\n",
       "  </thead>\n",
       "  <tbody>\n",
       "    <tr>\n",
       "      <th>bartlett</th>\n",
       "      <td>3.235161</td>\n",
       "      <td>0.072073</td>\n",
       "      <td>True</td>\n",
       "    </tr>\n",
       "  </tbody>\n",
       "</table>\n",
       "</div>"
      ],
      "text/plain": [
       "                 T      pval  equal_var\n",
       "bartlett  3.235161  0.072073       True"
      ]
     },
     "execution_count": 425,
     "metadata": {},
     "output_type": "execute_result"
    }
   ],
   "source": [
    "import pingouin as pg\n",
    "\n",
    "# Bartlett's test with pingouin:\n",
    "pg.homoscedasticity(df, dv='campaign_budget_log', \n",
    "                    group='treatment', method='bartlett')"
   ]
  },
  {
   "cell_type": "markdown",
   "metadata": {},
   "source": [
    "Homogeneity Present"
   ]
  },
  {
   "cell_type": "markdown",
   "metadata": {},
   "source": [
    "# Hypothesis Testing\n",
    "1st null hypothesis: The product has no effect on budget.\n",
    "    \n",
    "2nd null hypothesis: The interaction between the product and the company size & treatment has no effect on budget"
   ]
  },
  {
   "cell_type": "markdown",
   "metadata": {},
   "source": [
    "## T-Test"
   ]
  },
  {
   "cell_type": "code",
   "execution_count": 426,
   "metadata": {},
   "outputs": [
    {
     "name": "stdout",
     "output_type": "stream",
     "text": [
      "stat=8.282. p=0.0000000000000001305\n",
      "\n",
      "We reject the null Hypothesis: There is a statistically significant difference between the two groups.\n"
     ]
    }
   ],
   "source": [
    "from scipy import stats\n",
    "\n",
    "x = df['campaign_budget_log'][df['treatment'] == False]\n",
    "\n",
    "y = df['campaign_budget_log'][df['treatment'] == True]\n",
    "\n",
    "\n",
    "f, p = stats.ttest_ind(x, y, equal_var = True)\n",
    "print('stat=%.3f. p=%.19f\\n' % (f, p))\n",
    "if p < .05:\n",
    "    print('We reject the null Hypothesis: There is a statistically significant difference between the two groups.')\n",
    "else:\n",
    "    print('There was no statistically significant difference between the two groups.')\n",
    "    "
   ]
  },
  {
   "cell_type": "markdown",
   "metadata": {},
   "source": [
    "## Two-Way ANOVA Test"
   ]
  },
  {
   "cell_type": "code",
   "execution_count": 427,
   "metadata": {},
   "outputs": [
    {
     "name": "stdout",
     "output_type": "stream",
     "text": [
      "                             OLS Regression Results                            \n",
      "===============================================================================\n",
      "Dep. Variable:     campaign_budget_log   R-squared:                       0.099\n",
      "Model:                             OLS   Adj. R-squared:                  0.099\n",
      "Method:                  Least Squares   F-statistic:                     340.9\n",
      "Date:                 Mon, 26 Apr 2021   Prob (F-statistic):               0.00\n",
      "Time:                         01:12:21   Log-Likelihood:                -22172.\n",
      "No. Observations:                15474   AIC:                         4.436e+04\n",
      "Df Residuals:                    15468   BIC:                         4.440e+04\n",
      "Df Model:                            5                                         \n",
      "Covariance Type:             nonrobust                                         \n",
      "==================================================================================================================\n",
      "                                                     coef    std err          t      P>|t|      [0.025      0.975]\n",
      "------------------------------------------------------------------------------------------------------------------\n",
      "Intercept                                          2.2529      0.020    115.444      0.000       2.215       2.291\n",
      "C(treatment)[T.True]                               0.0658      0.028      2.325      0.020       0.010       0.121\n",
      "C(company_size)[T.medium]                         -0.2136      0.042     -5.063      0.000      -0.296      -0.131\n",
      "C(company_size)[T.small]                          -0.5312      0.025    -21.331      0.000      -0.580      -0.482\n",
      "C(treatment)[T.True]:C(company_size)[T.medium]    -0.0254      0.061     -0.418      0.676      -0.144       0.094\n",
      "C(treatment)[T.True]:C(company_size)[T.small]     -0.3127      0.036     -8.794      0.000      -0.382      -0.243\n",
      "==============================================================================\n",
      "Omnibus:                     2000.321   Durbin-Watson:                   1.765\n",
      "Prob(Omnibus):                  0.000   Jarque-Bera (JB):             3007.734\n",
      "Skew:                           0.944   Prob(JB):                         0.00\n",
      "Kurtosis:                       4.049   Cond. No.                         12.3\n",
      "==============================================================================\n",
      "\n",
      "Warnings:\n",
      "[1] Standard Errors assume that the covariance matrix of the errors is correctly specified.\n",
      "                                    sum_sq       df           F         PR(>F)\n",
      "C(treatment)                     52.380065      1.0   50.920619   1.004485e-12\n",
      "C(company_size)                1586.066892      2.0  770.937444  6.940140e-320\n",
      "C(treatment):C(company_size)     89.208848      2.0   43.361627   1.662950e-19\n",
      "Residual                      15911.331643  15468.0         NaN            NaN\n"
     ]
    },
    {
     "data": {
      "image/png": "[encoded data removed]",
      "text/plain": [
       "<Figure size 432x288 with 1 Axes>"
      ]
     },
     "metadata": {},
     "output_type": "display_data"
    }
   ],
   "source": [
    "#perform two-way ANOVA\n",
    "model = ols('campaign_budget_log ~ C(treatment) + C(company_size) + C(treatment):C(company_size)', data=df).fit()\n",
    "print(model.summary())\n",
    "\n",
    "# Create the ANOVA table\n",
    "res2 = sm.stats.anova_lm(model, typ=2)\n",
    "print(res2)\n",
    "\n",
    "#Check the Normal distribution of residuals\n",
    "res = model.resid\n",
    "fig = sm.qqplot(res, line='s')\n",
    "plt.show()\n"
   ]
  },
  {
   "cell_type": "markdown",
   "metadata": {},
   "source": [
    "### Treatment:\n",
    "##### P-Value(risk) = 1.02e-10% (Reject the 1st null hypothesis)\n",
    "##### The product alone played a statistically significant difference on the budget setting\n",
    "\n",
    "### Company Size:\n",
    "##### P-Value(risk) = 7.44e-318110% (Reject the 2nd null hypothesis)\n",
    "##### The company size alone plays a statistically significant difference on budget\n",
    "\n",
    "### Treatment & Company SIze:\n",
    "##### P-Value(risk) = 1.86e-17% (Reject the 3rd null hypothesis)\n",
    "##### The interaction between the product and the company size played a statistically significant difference on budget\n",
    "\n"
   ]
  },
  {
   "cell_type": "markdown",
   "metadata": {},
   "source": [
    "## Pairwise TukeyHSD Test For Interaction"
   ]
  },
  {
   "cell_type": "code",
   "execution_count": 428,
   "metadata": {},
   "outputs": [
    {
     "data": {
      "text/html": [
       "<div>\n",
       "<style scoped>\n",
       "    .dataframe tbody tr th:only-of-type {\n",
       "        vertical-align: middle;\n",
       "    }\n",
       "\n",
       "    .dataframe tbody tr th {\n",
       "        vertical-align: top;\n",
       "    }\n",
       "\n",
       "    .dataframe thead th {\n",
       "        text-align: right;\n",
       "    }\n",
       "</style>\n",
       "<table border=\"1\" class=\"dataframe\">\n",
       "  <thead>\n",
       "    <tr style=\"text-align: right;\">\n",
       "      <th></th>\n",
       "      <th>reject1</th>\n",
       "      <th>reject2</th>\n",
       "      <th>total_sum</th>\n",
       "    </tr>\n",
       "  </thead>\n",
       "  <tbody>\n",
       "    <tr>\n",
       "      <th>False / small</th>\n",
       "      <td>3.0</td>\n",
       "      <td>2.0</td>\n",
       "      <td>5.0</td>\n",
       "    </tr>\n",
       "    <tr>\n",
       "      <th>True / small</th>\n",
       "      <td>0.0</td>\n",
       "      <td>5.0</td>\n",
       "      <td>5.0</td>\n",
       "    </tr>\n",
       "    <tr>\n",
       "      <th>False / large</th>\n",
       "      <td>4.0</td>\n",
       "      <td>0.0</td>\n",
       "      <td>4.0</td>\n",
       "    </tr>\n",
       "    <tr>\n",
       "      <th>False / medium</th>\n",
       "      <td>3.0</td>\n",
       "      <td>1.0</td>\n",
       "      <td>4.0</td>\n",
       "    </tr>\n",
       "    <tr>\n",
       "      <th>True / large</th>\n",
       "      <td>2.0</td>\n",
       "      <td>2.0</td>\n",
       "      <td>4.0</td>\n",
       "    </tr>\n",
       "    <tr>\n",
       "      <th>True / medium</th>\n",
       "      <td>1.0</td>\n",
       "      <td>3.0</td>\n",
       "      <td>4.0</td>\n",
       "    </tr>\n",
       "  </tbody>\n",
       "</table>\n",
       "</div>"
      ],
      "text/plain": [
       "                reject1  reject2  total_sum\n",
       "False / small       3.0      2.0        5.0\n",
       "True / small        0.0      5.0        5.0\n",
       "False / large       4.0      0.0        4.0\n",
       "False / medium      3.0      1.0        4.0\n",
       "True / large        2.0      2.0        4.0\n",
       "True / medium       1.0      3.0        4.0"
      ]
     },
     "execution_count": 428,
     "metadata": {},
     "output_type": "execute_result"
    }
   ],
   "source": [
    "# perfrming pairwias_tukeyhsd test to see which pairs had a statistically significant difference on overspending\n",
    "from statsmodels.stats.multicomp import pairwise_tukeyhsd\n",
    "\n",
    "anova_df= df\n",
    "anova_df.treatment = anova_df.treatment.astype(str)\n",
    "anova_df['combination'] = anova_df.treatment + \" / \" + anova_df.company_size\n",
    "\n",
    "# perform multiple pairwise comparison (Tukey HSD)\n",
    "m_comp = pairwise_tukeyhsd(endog=anova_df['campaign_budget_log'], groups=anova_df['combination'], alpha=0.05)\n",
    "\n",
    "# coerce the tukeyhsd table to a DataFrame\n",
    "tukey_data = pd.DataFrame(data=m_comp._results_table.data[1:], columns = m_comp._results_table.data[0])\n",
    "\n",
    "group1_comp =tukey_data.loc[tukey_data.reject == True].groupby('group1').reject.count()\n",
    "group2_comp = tukey_data.loc[tukey_data.reject == True].groupby('group2').reject.count()\n",
    "tukey_data = pd.concat([group1_comp, group2_comp], axis=1)\n",
    "\n",
    "tukey_data = tukey_data.fillna(0)\n",
    "tukey_data.columns = ['reject1', 'reject2']\n",
    "tukey_data['total_sum'] = tukey_data.reject1 + tukey_data.reject2\n",
    "\n",
    "# just show the top 20 results\n",
    "tukey_data.sort_values('total_sum',ascending=False)"
   ]
  },
  {
   "cell_type": "code",
   "execution_count": 431,
   "metadata": {},
   "outputs": [
    {
     "data": {
      "text/plain": [
       "<matplotlib.legend.Legend at 0x20fc933cf98>"
      ]
     },
     "execution_count": 431,
     "metadata": {},
     "output_type": "execute_result"
    },
    {
     "data": {
      "image/png": "[encoded data removed]",
      "text/plain": [
       "<Figure size 720x720 with 1 Axes>"
      ]
     },
     "metadata": {},
     "output_type": "display_data"
    }
   ],
   "source": [
    "# plotting a histogram for the overspending% and the campaign budget by company size\n",
    "fig, axes = plt.subplots(1, 1, figsize=(10,10))\n",
    "\n",
    "fig.subplots_adjust(left=0.1,\n",
    "                    bottom=0.1, \n",
    "                    right=1.4, \n",
    "                    top=0.9, \n",
    "                    wspace=0.4, \n",
    "                    hspace=0.4)\n",
    "\n",
    "\n",
    "\n",
    "ax = sns.barplot(y=\"campaign_budget\", x=\"company_size\", hue=\"treatment\", \n",
    "                  palette=[\"b\", \"r\"], data=df_without_outliers, ax=axes)\n",
    "# .set(yscale = \"log\")\n",
    "## ax1.set(xlim=(0,30000),ylim=(0,30000))\n",
    "ax.set_title(\"Campaign Budget vs Company Size\", fontsize = 40)\n",
    "ax.set_ylabel(\"Campaign Budget\", fontsize = 35)\n",
    "ax.set_xlabel(\"Company Size\", fontsize = 35)\n",
    "ax.legend(fontsize = 18, title_fontsize='20')\n",
    "ax.tick_params(axis='both', which='both', labelsize = 25)\n",
    "ax.legend(title='Treatment',  bbox_to_anchor=(1, 1), fontsize = 18, title_fontsize='20')\n"
   ]
  },
  {
   "cell_type": "markdown",
   "metadata": {},
   "source": [
    "### Results: \n",
    "##### Small compaies: The null hypothesis was rejected 5 times on average (Statistically Significant)\n",
    "##### Medium sized companies: The null hpyothesis was rejected 4 times on average (Statistically significant)\n",
    "##### Large companies: The null hypothesis was rejected 4 times on average (Statistically significant)\n",
    "\n",
    "### Conclusion: \n",
    "#### The product has a significant effect on the budget setting for all groups. And from the visualization earlier, the smaller companmies were the only ones to reduce their budgets when placed on the new product.\n",
    "\n",
    "### Recommendation: \n",
    "#### 1) Use the product only on the small and medium companies.\n",
    "#### 2) Test the product for more time on the large companies and develop better products for the medium and/or large size companies."
   ]
  }
 ],
 "metadata": {
  "kernelspec": {
   "display_name": "Python [conda env:learn-env] *",
   "language": "python",
   "name": "conda-env-learn-env-py"
  },
  "language_info": {
   "codemirror_mode": {
    "name": "ipython",
    "version": 3
   },
   "file_extension": ".py",
   "mimetype": "text/x-python",
   "name": "python",
   "nbconvert_exporter": "python",
   "pygments_lexer": "ipython3",
   "version": "3.6.9"
  }
 },
 "nbformat": 4,
 "nbformat_minor": 2
}
